{
 "cells": [
  {
   "cell_type": "markdown",
   "metadata": {},
   "source": [
    "# 地域手当マップのためのデータ処理\n",
    "\n",
    "R6人事院勧告の際の地域手当の大幅な変更について、地図に表してみます。"
   ]
  },
  {
   "cell_type": "code",
   "execution_count": 1,
   "metadata": {},
   "outputs": [],
   "source": [
    "# ライブラリをロード\n",
    "import os\n",
    "import pandas as pd\n",
    "import geopandas as gpd\n",
    "import json"
   ]
  },
  {
   "cell_type": "code",
   "execution_count": 2,
   "metadata": {},
   "outputs": [],
   "source": [
    "# shpを読み込み\n",
    "japan_geom = gpd.read_file(os.path.join('data', 'N03-20240101_GML', 'N03-20240101.shp'))"
   ]
  },
  {
   "cell_type": "code",
   "execution_count": 3,
   "metadata": {},
   "outputs": [],
   "source": [
    "# マージ用の列を作成\n",
    "japan_geom['都道府県'] = japan_geom['N03_001']\n",
    "japan_geom['市町村'] = japan_geom['N03_003'].fillna('') + japan_geom['N03_004']"
   ]
  },
  {
   "cell_type": "code",
   "execution_count": 4,
   "metadata": {},
   "outputs": [],
   "source": [
    "japan_geom_edit = japan_geom.dissolve(by = 'N03_007', aggfunc = 'first')"
   ]
  },
  {
   "cell_type": "code",
   "execution_count": 5,
   "metadata": {},
   "outputs": [],
   "source": [
    "japan_geom_edit = japan_geom_edit.reset_index()"
   ]
  },
  {
   "cell_type": "code",
   "execution_count": 6,
   "metadata": {},
   "outputs": [],
   "source": [
    "# 手当のデータを読み込む\n",
    "wage_fp = os.path.join('data', 'reference')\n",
    "\n",
    "wage_sq = pd.read_csv(os.path.join(wage_fp, '地域手当支給地_現行.csv'))\n",
    "wage_ap_pref = pd.read_csv(os.path.join(wage_fp, '地域手当支給地_勧告_都道府県.csv'), encoding = 'shift-jis')\n",
    "wage_ap_city = pd.read_csv(os.path.join(wage_fp, '地域手当支給地_勧告_市町村.csv'), encoding = 'shift-jis')"
   ]
  },
  {
   "cell_type": "code",
   "execution_count": 7,
   "metadata": {},
   "outputs": [],
   "source": [
    "# 列名の変更\n",
    "wage_sq = wage_sq.rename(columns = {'支給地域': '市町村', '級地': '級地_現行'})\n",
    "wage_ap_city =  wage_ap_city.rename(columns = {'級地': '新級地_市町村'})\n",
    "wage_ap_pref =  wage_ap_pref.rename(columns = {'級地': '新級地_都道府県'})"
   ]
  },
  {
   "cell_type": "code",
   "execution_count": 8,
   "metadata": {},
   "outputs": [],
   "source": [
    "# 全部のデータを統合\n",
    "japan_geom_merged = japan_geom_edit.merge(\n",
    "    wage_sq,\n",
    "    on = ['都道府県', '市町村'],\n",
    "    how = 'left'\n",
    ").merge(\n",
    "    wage_ap_pref,\n",
    "    on = '都道府県',\n",
    "    how = 'left'\n",
    ").merge(\n",
    "    wage_ap_city,\n",
    "    on = ['都道府県', '市町村'],\n",
    "    how = 'left'\n",
    ")"
   ]
  },
  {
   "cell_type": "code",
   "execution_count": 9,
   "metadata": {},
   "outputs": [],
   "source": [
    "# 特別区についてはどちらも1級地にする\n",
    "japan_geom_merged['級地_現行'] = japan_geom_merged.apply(\n",
    "    lambda row: '一級地' if '区' in row['N03_004'] else row['級地_現行'],\n",
    "    axis = 1\n",
    ")\n",
    "\n",
    "japan_geom_merged['新級地_市町村'] = japan_geom_merged.apply(\n",
    "    lambda row: 1.0 if '区' in row['N03_004'] else row['新級地_市町村'],\n",
    "    axis = 1\n",
    ")"
   ]
  },
  {
   "cell_type": "code",
   "execution_count": 10,
   "metadata": {},
   "outputs": [],
   "source": [
    "# 市町村単位で上書きされているものだけ市町村のものに置き換える\n",
    "japan_geom_merged['新級地_数字'] = japan_geom_merged[['新級地_都道府県', '新級地_市町村']].min(axis = 1)"
   ]
  },
  {
   "cell_type": "code",
   "execution_count": 11,
   "metadata": {},
   "outputs": [],
   "source": [
    "# 新級地を名前で置き換え\n",
    "translations = {\n",
    "    1.0: '一級地',\n",
    "    2.0: '二級地',\n",
    "    3.0: '三級地',\n",
    "    4.0: '四級地',\n",
    "    5.0: '五級地',     \n",
    "    6.0: '六級地',\n",
    "    7.0: '七級地',     \n",
    "}\n",
    "\n",
    "japan_geom_merged['新級地'] = japan_geom_merged['新級地_数字'].apply(\n",
    "    lambda x: '指定なし' if pd.isna(x) else translations[x] \n",
    ")\n",
    "\n",
    "# 指定なしを埋める\n",
    "japan_geom_merged['級地_現行'] = japan_geom_merged['級地_現行'].fillna('指定なし')"
   ]
  },
  {
   "cell_type": "code",
   "execution_count": 12,
   "metadata": {},
   "outputs": [],
   "source": [
    "# 地域手当を割当\n",
    "\n",
    "# 現行の支給割合\n",
    "percentage_old = {\n",
    "    '一級地': 20,\n",
    "    '二級地': 16,\n",
    "    '三級地': 15,\n",
    "    '四級地': 12,\n",
    "    '五級地': 10,\n",
    "    '六級地': 6,\n",
    "    '七級地': 3,\n",
    "    '指定なし': 0    \n",
    "}\n",
    "\n",
    "# 新たな支給割合\n",
    "percentage_new = {\n",
    "    '一級地': 20,\n",
    "    '二級地': 16,\n",
    "    '三級地': 12,\n",
    "    '四級地': 8,\n",
    "    '五級地': 4,\n",
    "    '指定なし': 0\n",
    "}\n",
    "\n",
    "# 各地域に割り当て\n",
    "japan_geom_merged['地域手当_現行'] = japan_geom_merged['級地_現行'].apply(lambda x: percentage_old[x])\n",
    "japan_geom_merged['地域手当_勧告'] = japan_geom_merged['新級地'].apply(lambda x: percentage_new[x])\n",
    "\n",
    "# 差を計算\n",
    "japan_geom_merged['地域手当_変動'] = japan_geom_merged['地域手当_勧告'] - japan_geom_merged['地域手当_現行']\n"
   ]
  },
  {
   "cell_type": "code",
   "execution_count": 50,
   "metadata": {},
   "outputs": [],
   "source": [
    "# データを保存\n",
    "# japan_geom_merged.to_file(os.path.join('data','地域手当.gpkg'), driver = 'GPKG')\n",
    "japan_geom_merged.to_file(os.path.join('data','area_salary.geojson'), driver = 'GeoJSON')"
   ]
  },
  {
   "cell_type": "code",
   "execution_count": 66,
   "metadata": {},
   "outputs": [],
   "source": [
    "japan_geom_merged_simplify = japan_geom_merged.copy()"
   ]
  },
  {
   "cell_type": "code",
   "execution_count": 67,
   "metadata": {},
   "outputs": [],
   "source": [
    "japan_geom_merged_simplify['geometry'] = japan_geom_merged_simplify['geometry'].simplify(0.0003)\n",
    "\n",
    "japan_geom_merged_simplify.to_file(os.path.join('data','area_salary_simple.geojson'), driver = 'GeoJSON')"
   ]
  },
  {
   "cell_type": "code",
   "execution_count": 4,
   "metadata": {},
   "outputs": [],
   "source": [
    "# 都道府県も同様に簡素化\n",
    "# shpを読み込み\n",
    "pref_geom = gpd.read_file(os.path.join('data', 'N03-20240101_GML', 'N03-20240101_prefecture.shp'))\n",
    "pref_geom['geometry'] = pref_geom['geometry'].simplify(0.001)\n",
    "pref_geom.to_file(os.path.join('data','pref_geom.geojson'), driver = 'GeoJSON')"
   ]
  },
  {
   "cell_type": "markdown",
   "metadata": {},
   "source": [
    "## 官署の処理\n",
    "\n",
    "官署のデータと地域のデータをマッチ"
   ]
  },
  {
   "cell_type": "code",
   "execution_count": 13,
   "metadata": {},
   "outputs": [],
   "source": [
    "# データをロード\n",
    "offices_geom = gpd.read_file(os.path.join('data', 'P28-22', 'P28-22.shp'))"
   ]
  },
  {
   "cell_type": "code",
   "execution_count": 44,
   "metadata": {},
   "outputs": [],
   "source": [
    "# 浜松市のデータを編集\n",
    "# 行政区再編について反映\n",
    "\n",
    "hamamatsu_dict = {\n",
    "    22131: 22138, # 中区→中央区\n",
    "    22132: 22138, # 東区→中央区\n",
    "    22133: 22138, # 西区→中央区\n",
    "    22134: 22138, # 南区→中央区\n",
    "    22135: 22139, # 浜北区→浜名区\n",
    "    22136: 22139, # 北区→浜名区\n",
    "    22137: 22140, # 天竜区→天竜区\n",
    "}\n",
    "\n",
    "# 置換\n",
    "offices_geom['P28_001'] = offices_geom['P28_001'].apply(lambda x: str(hamamatsu_dict[int(x)]) if int(x) in hamamatsu_dict else x)"
   ]
  },
  {
   "cell_type": "code",
   "execution_count": 45,
   "metadata": {},
   "outputs": [],
   "source": [
    "# 市町村データとマージ\n",
    "offices_geom_merged = offices_geom.merge(\n",
    "    japan_geom_merged.drop(columns = 'geometry'),\n",
    "    left_on = 'P28_001',\n",
    "    right_on = 'N03_007',\n",
    "    how = 'left'\n",
    ")"
   ]
  },
  {
   "cell_type": "code",
   "execution_count": 48,
   "metadata": {},
   "outputs": [
    {
     "data": {
      "text/html": [
       "<div>\n",
       "<style scoped>\n",
       "    .dataframe tbody tr th:only-of-type {\n",
       "        vertical-align: middle;\n",
       "    }\n",
       "\n",
       "    .dataframe tbody tr th {\n",
       "        vertical-align: top;\n",
       "    }\n",
       "\n",
       "    .dataframe thead th {\n",
       "        text-align: right;\n",
       "    }\n",
       "</style>\n",
       "<table border=\"1\" class=\"dataframe\">\n",
       "  <thead>\n",
       "    <tr style=\"text-align: right;\">\n",
       "      <th></th>\n",
       "      <th>P28_001</th>\n",
       "      <th>P28_002</th>\n",
       "      <th>P28_003</th>\n",
       "      <th>P28_004</th>\n",
       "      <th>P28_005</th>\n",
       "      <th>geometry</th>\n",
       "      <th>N03_007</th>\n",
       "      <th>N03_001</th>\n",
       "      <th>N03_002</th>\n",
       "      <th>N03_003</th>\n",
       "      <th>...</th>\n",
       "      <th>都道府県</th>\n",
       "      <th>市町村</th>\n",
       "      <th>級地_現行</th>\n",
       "      <th>新級地_都道府県</th>\n",
       "      <th>新級地_市町村</th>\n",
       "      <th>新級地_数字</th>\n",
       "      <th>新級地</th>\n",
       "      <th>地域手当_現行</th>\n",
       "      <th>地域手当_勧告</th>\n",
       "      <th>地域手当_変動</th>\n",
       "    </tr>\n",
       "  </thead>\n",
       "  <tbody>\n",
       "  </tbody>\n",
       "</table>\n",
       "<p>0 rows × 22 columns</p>\n",
       "</div>"
      ],
      "text/plain": [
       "Empty GeoDataFrame\n",
       "Columns: [P28_001, P28_002, P28_003, P28_004, P28_005, geometry, N03_007, N03_001, N03_002, N03_003, N03_004, N03_005, 都道府県, 市町村, 級地_現行, 新級地_都道府県, 新級地_市町村, 新級地_数字, 新級地, 地域手当_現行, 地域手当_勧告, 地域手当_変動]\n",
       "Index: []\n",
       "\n",
       "[0 rows x 22 columns]"
      ]
     },
     "execution_count": 48,
     "metadata": {},
     "output_type": "execute_result"
    }
   ],
   "source": [
    "# マージできていないデータが無いか確認\n",
    "offices_geom_merged[offices_geom_merged['市町村'].isna()]"
   ]
  },
  {
   "cell_type": "code",
   "execution_count": 49,
   "metadata": {},
   "outputs": [],
   "source": [
    "# 保存\n",
    "offices_geom_merged.to_file(os.path.join('data', 'offices_data.geojson'), driver = 'GeoJSON')"
   ]
  },
  {
   "cell_type": "markdown",
   "metadata": {},
   "source": [
    "## 機関分類コードの処理\n",
    "\n",
    "[機関分類コード](https://nlftp.mlit.go.jp/ksj/gml/codelist/FacClassCd-v2_0.html)を処理"
   ]
  },
  {
   "cell_type": "code",
   "execution_count": 2,
   "metadata": {},
   "outputs": [],
   "source": [
    "# データのロード\n",
    "fac_class = pd.read_csv(os.path.join('data', 'reference', 'facclasscd.csv'), encoding='cp932')"
   ]
  },
  {
   "cell_type": "code",
   "execution_count": 7,
   "metadata": {},
   "outputs": [],
   "source": [
    "# dictに変換\n",
    "fac_dict = fac_class.set_index('code').to_dict()['type']"
   ]
  },
  {
   "cell_type": "code",
   "execution_count": 13,
   "metadata": {},
   "outputs": [],
   "source": [
    "with open(os.path.join('data', 'reference', 'fac_class.json'), 'w', encoding = 'utf-8') as fp:\n",
    "    json.dump(fac_dict, fp, ensure_ascii = False)"
   ]
  }
 ],
 "metadata": {
  "kernelspec": {
   "display_name": "Python 3",
   "language": "python",
   "name": "python3"
  },
  "language_info": {
   "codemirror_mode": {
    "name": "ipython",
    "version": 3
   },
   "file_extension": ".py",
   "mimetype": "text/x-python",
   "name": "python",
   "nbconvert_exporter": "python",
   "pygments_lexer": "ipython3",
   "version": "3.11.5"
  }
 },
 "nbformat": 4,
 "nbformat_minor": 2
}
